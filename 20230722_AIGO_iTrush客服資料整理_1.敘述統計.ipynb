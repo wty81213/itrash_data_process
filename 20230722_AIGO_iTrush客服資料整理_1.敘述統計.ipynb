{
 "cells": [
  {
   "cell_type": "code",
   "execution_count": 1,
   "metadata": {},
   "outputs": [],
   "source": [
    "import os\n",
    "import pandas as pd\n",
    "import datetime\n",
    "import time\n",
    "import numpy as np"
   ]
  },
  {
   "cell_type": "code",
   "execution_count": 2,
   "metadata": {},
   "outputs": [],
   "source": [
    "pd.set_option('display.max_rows',500)\n",
    "data_file_name = 'line_oa_chat_csv_230717_091224'"
   ]
  },
  {
   "cell_type": "code",
   "execution_count": 5,
   "metadata": {},
   "outputs": [
    {
     "data": {
      "text/plain": [
       "'C:\\\\Users\\\\User\\\\Desktop\\\\Jing-Ying\\\\競賽\\\\iTrush\\\\第二階段實作\\\\出題單位提供資料'"
      ]
     },
     "execution_count": 5,
     "metadata": {},
     "output_type": "execute_result"
    }
   ],
   "source": [
    "os.chdir('C:\\\\Users\\\\User\\\\Desktop\\\\Jing-Ying\\\\競賽\\\\iTrush\\\\第二階段實作\\\\出題單位提供資料')\n",
    "os.getcwd()"
   ]
  },
  {
   "cell_type": "markdown",
   "metadata": {},
   "source": [
    "# 讀取所有對話資料及整理"
   ]
  },
  {
   "cell_type": "code",
   "execution_count": 34,
   "metadata": {},
   "outputs": [
    {
     "name": "stdout",
     "output_type": "stream",
     "text": [
      "提供檔案數: 803\n",
      "讀入檔案數: 335\n",
      "執行時間：1.275307 分鐘\n"
     ]
    }
   ],
   "source": [
    "start = time.time()\n",
    "\n",
    "# 讀入所有資料、合併為一個檔案，並設立檔案的INDEX\n",
    "col_name = ['傳送者類型','傳送者名稱','傳送日期','傳送時間','內容']\n",
    "final_col = ['ttl_index','csv_num','date_time','week_day','diff_hour','dialogue_num','sentence_num'] + col_name\n",
    "\n",
    "week_list = [\"星期一\",\"星期二\",\"星期三\",\"星期四\",\"星期五\",\"星期六\",\"星期日\"]\n",
    "all_df = pd.DataFrame(columns = final_col)\n",
    "\n",
    "print('提供檔案數:',len(os.listdir(os.getcwd() + '\\\\' + data_file_name)))\n",
    "for i in os.listdir(os.getcwd() + '\\\\' + data_file_name):\n",
    "    tmp_df = pd.read_csv(data_file_name + '\\\\' + i ,names = col_name,encoding='utf-8',engine='python').iloc[4:,:]\n",
    "    \n",
    "    # 新增檔案index欄位\n",
    "    tmp_df['csv_num'] = [i.split('_')[0]] * tmp_df.shape[0]\n",
    "    \n",
    "    # 新增對話時間的星期欄位\n",
    "    tmp_df['week_day'] = tmp_df[['傳送日期']].applymap(lambda x :week_list[datetime.date(int(x.split('/')[0]),int(x.split('/')[1]), int(x.split('/')[2])).weekday()])\n",
    "    \n",
    "    # 合併日期與時間\n",
    "    tmp_df['date_time'] = tmp_df['傳送日期'] + ' ' + tmp_df['傳送時間']\n",
    "    tmp_df['date_time'] = tmp_df[['date_time']].applymap(lambda x : datetime.datetime.strptime(x.replace('/','-'), '%Y-%m-%d %H:%M:%S'))\n",
    "    \n",
    "    # 計算該發話與前一個發話的時間差距\n",
    "    tmp_df1 = tmp_df.copy()\n",
    "    tmp_df1.index = [i+1 for i in list(tmp_df.index)]\n",
    "    tmp_df1.columns = ['傳送者類型', '傳送者名稱', '傳送日期', '傳送時間', '內容', 'csv_index', 'week_day', 'date_time_lasttime']\n",
    "    tmp_df = pd.concat([tmp_df, tmp_df1[['date_time_lasttime']]], axis=1).iloc[:-1,:]\n",
    "    tmp_df['diff_time'] = (tmp_df['date_time'] - tmp_df['date_time_lasttime']).fillna(0)\n",
    "    tmp_df['diff_hour'] = tmp_df.diff_time.map(lambda x : round(x.total_seconds()/3600),2)\n",
    "    \n",
    "    # 新增同客戶中對話數的判斷(暫定超過24小時即為新對話)，及新增同一個對話中的流水號\n",
    "    dialogue_index = list([0])\n",
    "    sentence_index = list([0])\n",
    "    for i in tmp_df.diff_hour.tolist()[1:]:\n",
    "        if i > 24:\n",
    "            dialogue_index.append(dialogue_index[-1] + 1)\n",
    "            sentence_index.append(0)\n",
    "        else:\n",
    "            dialogue_index.append(dialogue_index[-1])\n",
    "            sentence_index.append(sentence_index[-1]+1)\n",
    "    tmp_df['dialogue_num'] = dialogue_index\n",
    "    tmp_df['sentence_num'] = sentence_index\n",
    "    \n",
    "    # 產出對話最終的index\n",
    "    tmp_df['ttl_index'] = tmp_df['csv_num'].astype(str) + '_' + tmp_df['dialogue_num'].astype(str)\n",
    "    \n",
    "    # 選取需要的欄位\n",
    "    tmp_df = tmp_df[final_col]\n",
    "    \n",
    "    # 合併資料\n",
    "    all_df = all_df.append(tmp_df).reset_index(drop=True)\n",
    "\n",
    "all_df = all_df[all_df.ttl_index != 'nan_0'].reset_index(drop=True)\n",
    "print('讀入檔案數:',len(set(all_df.csv_num)))\n",
    "\n",
    "\n",
    "end = time.time()\n",
    "\n",
    "# 輸出結果\n",
    "print(\"執行時間：%f 分鐘\" % ((end - start)/60))"
   ]
  },
  {
   "cell_type": "code",
   "execution_count": 38,
   "metadata": {},
   "outputs": [
    {
     "name": "stdout",
     "output_type": "stream",
     "text": [
      "2022-07-17 16:20:51\n",
      "2023-07-17 09:05:40\n"
     ]
    }
   ],
   "source": [
    "print(all_df[['date_time']].sort_values(by=['date_time']).head(1).values[0][0])\n",
    "print(all_df[['date_time']].sort_values(by=['date_time']).tail(1).values[0][0])"
   ]
  },
  {
   "cell_type": "code",
   "execution_count": 40,
   "metadata": {},
   "outputs": [
    {
     "data": {
      "text/plain": [
       "(11955, 12)"
      ]
     },
     "execution_count": 40,
     "metadata": {},
     "output_type": "execute_result"
    }
   ],
   "source": [
    "all_df.shape"
   ]
  },
  {
   "cell_type": "code",
   "execution_count": 41,
   "metadata": {},
   "outputs": [
    {
     "data": {
      "text/plain": [
       "(4730, 12)"
      ]
     },
     "execution_count": 41,
     "metadata": {},
     "output_type": "execute_result"
    }
   ],
   "source": [
    "all_df[(all_df.傳送者類型 == 'User')].shape"
   ]
  },
  {
   "cell_type": "code",
   "execution_count": null,
   "metadata": {
    "collapsed": true
   },
   "outputs": [],
   "source": []
  },
  {
   "cell_type": "code",
   "execution_count": 148,
   "metadata": {
    "collapsed": true
   },
   "outputs": [],
   "source": [
    "# user_df[['內容','ttl_index']].groupby('內容').count().sort_values(by=['ttl_index'], ascending=False)"
   ]
  },
  {
   "cell_type": "code",
   "execution_count": 149,
   "metadata": {
    "collapsed": true,
    "scrolled": true
   },
   "outputs": [],
   "source": [
    "no_sentence = ['照片已傳送','貼圖已傳送','謝謝','你好','您好','感謝','謝謝您','對','好','好的','沒有']\n",
    "user_df = all_df[(all_df.傳送者類型 == 'User') & ~(all_df.內容.isin(no_sentence))].reset_index(drop=True)"
   ]
  },
  {
   "cell_type": "code",
   "execution_count": 150,
   "metadata": {},
   "outputs": [
    {
     "data": {
      "text/plain": [
       "(2597, 12)"
      ]
     },
     "execution_count": 150,
     "metadata": {},
     "output_type": "execute_result"
    }
   ],
   "source": [
    "user_df.shape"
   ]
  },
  {
   "cell_type": "code",
   "execution_count": null,
   "metadata": {
    "collapsed": true
   },
   "outputs": [],
   "source": []
  }
 ],
 "metadata": {
  "kernelspec": {
   "display_name": "Python 3 (ipykernel)",
   "language": "python",
   "name": "python3"
  },
  "language_info": {
   "codemirror_mode": {
    "name": "ipython",
    "version": 3
   },
   "file_extension": ".py",
   "mimetype": "text/x-python",
   "name": "python",
   "nbconvert_exporter": "python",
   "pygments_lexer": "ipython3",
   "version": "3.11.4"
  }
 },
 "nbformat": 4,
 "nbformat_minor": 2
}
