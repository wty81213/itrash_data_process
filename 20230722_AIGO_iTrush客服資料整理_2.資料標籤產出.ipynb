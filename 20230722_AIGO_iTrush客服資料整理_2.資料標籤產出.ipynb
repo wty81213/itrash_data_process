{
 "cells": [
  {
   "cell_type": "code",
   "execution_count": 1,
   "metadata": {
    "collapsed": true
   },
   "outputs": [],
   "source": [
    "import os\n",
    "import pandas as pd\n",
    "import datetime\n",
    "import time\n",
    "import numpy as np"
   ]
  },
  {
   "cell_type": "code",
   "execution_count": 2,
   "metadata": {
    "collapsed": true
   },
   "outputs": [],
   "source": [
    "pd.set_option('display.max_rows',500)\n",
    "data_file_name = 'line_oa_chat_csv_230717_091224'"
   ]
  },
  {
   "cell_type": "code",
   "execution_count": 3,
   "metadata": {},
   "outputs": [
    {
     "data": {
      "text/plain": [
       "'C:\\\\Users\\\\User\\\\Desktop\\\\aigo 2023\\\\第二階段實作\\\\出題單位提供資料'"
      ]
     },
     "execution_count": 3,
     "metadata": {},
     "output_type": "execute_result"
    }
   ],
   "source": [
    "os.chdir('C:\\\\Users\\\\User\\\\Desktop\\\\aigo 2023\\\\第二階段實作\\\\出題單位提供資料')\n",
    "os.getcwd()"
   ]
  },
  {
   "cell_type": "markdown",
   "metadata": {},
   "source": [
    "# 讀取所有對話資料及整理"
   ]
  },
  {
   "cell_type": "code",
   "execution_count": 6,
   "metadata": {},
   "outputs": [
    {
     "name": "stdout",
     "output_type": "stream",
     "text": [
      "讀入檔案數: 335\n",
      "執行時間：1.176472 分鐘\n"
     ]
    }
   ],
   "source": [
    "start = time.time()\n",
    "\n",
    "# 讀入所有資料、合併為一個檔案，並設立檔案的INDEX\n",
    "col_name = ['傳送者類型','傳送者名稱','傳送日期','傳送時間','內容']\n",
    "final_col = ['ttl_index','csv_num','date_time','week_day','diff_hour','dialogue_num','sentence_num'] + col_name\n",
    "\n",
    "week_list = [\"星期一\",\"星期二\",\"星期三\",\"星期四\",\"星期五\",\"星期六\",\"星期日\"]\n",
    "all_df = pd.DataFrame(columns = final_col)\n",
    "for i in os.listdir(os.getcwd() + '\\\\' + data_file_name):\n",
    "    tmp_df = pd.read_csv(data_file_name + '\\\\' + i ,names = col_name,encoding='utf-8',engine='python').iloc[4:,:]\n",
    "    \n",
    "    # 新增檔案index欄位\n",
    "    tmp_df['csv_num'] = [i.split('_')[0]] * tmp_df.shape[0]\n",
    "    \n",
    "    # 新增對話時間的星期欄位\n",
    "    tmp_df['week_day'] = tmp_df[['傳送日期']].applymap(lambda x :week_list[datetime.date(int(x.split('/')[0]),int(x.split('/')[1]), int(x.split('/')[2])).weekday()])\n",
    "    \n",
    "    # 合併日期與時間\n",
    "    tmp_df['date_time'] = tmp_df['傳送日期'] + ' ' + tmp_df['傳送時間']\n",
    "    tmp_df['date_time'] = tmp_df[['date_time']].applymap(lambda x : datetime.datetime.strptime(x.replace('/','-'), '%Y-%m-%d %H:%M:%S'))\n",
    "    \n",
    "    # 計算該發話與前一個發話的時間差距\n",
    "    tmp_df1 = tmp_df.copy()\n",
    "    tmp_df1.index = [i+1 for i in list(tmp_df.index)]\n",
    "    tmp_df1.columns = ['傳送者類型', '傳送者名稱', '傳送日期', '傳送時間', '內容', 'csv_index', 'week_day', 'date_time_lasttime']\n",
    "    tmp_df = pd.concat([tmp_df, tmp_df1[['date_time_lasttime']]], axis=1).iloc[:-1,:]\n",
    "    tmp_df['diff_time'] = (tmp_df['date_time'] - tmp_df['date_time_lasttime']).fillna(0)\n",
    "    tmp_df['diff_hour'] = tmp_df.diff_time.map(lambda x : round(x.total_seconds()/3600),2)\n",
    "    \n",
    "    # 新增同客戶中對話數的判斷(暫定超過24小時即為新對話)，及新增同一個對話中的流水號\n",
    "    dialogue_index = list([0])\n",
    "    sentence_index = list([0])\n",
    "    for i in tmp_df.diff_hour.tolist()[1:]:\n",
    "        if i > 24:\n",
    "            dialogue_index.append(dialogue_index[-1] + 1)\n",
    "            sentence_index.append(0)\n",
    "        else:\n",
    "            dialogue_index.append(dialogue_index[-1])\n",
    "            sentence_index.append(sentence_index[-1]+1)\n",
    "    tmp_df['dialogue_num'] = dialogue_index\n",
    "    tmp_df['sentence_num'] = sentence_index\n",
    "    \n",
    "    # 產出對話最終的index\n",
    "    tmp_df['ttl_index'] = tmp_df['csv_num'].astype(str) + '_' + tmp_df['dialogue_num'].astype(str)\n",
    "    \n",
    "    # 選取需要的欄位\n",
    "    tmp_df = tmp_df[final_col]\n",
    "    \n",
    "    # 合併資料\n",
    "    all_df = all_df.append(tmp_df).reset_index(drop=True)\n",
    "    \n",
    "\n",
    "all_df = all_df[all_df.ttl_index != 'nan_0'].reset_index(drop=True)\n",
    "print('讀入檔案數:',len(set(all_df.csv_num)))\n",
    "\n",
    "end = time.time()\n",
    "\n",
    "# 輸出結果\n",
    "print(\"執行時間：%f 分鐘\" % ((end - start)/60))"
   ]
  },
  {
   "cell_type": "code",
   "execution_count": 7,
   "metadata": {
    "collapsed": true
   },
   "outputs": [],
   "source": [
    "# user_df[['內容','ttl_index']].groupby('內容').count().sort_values(by=['ttl_index'], ascending=False)"
   ]
  },
  {
   "cell_type": "code",
   "execution_count": 8,
   "metadata": {
    "collapsed": true,
    "scrolled": true
   },
   "outputs": [],
   "source": [
    "no_sentence = ['照片已傳送','貼圖已傳送','謝謝','你好','您好','感謝','謝謝您','對','好','好的','沒有']\n",
    "user_df = all_df[(all_df.傳送者類型 == 'User') & ~(all_df.內容.isin(no_sentence))].reset_index(drop=True)"
   ]
  },
  {
   "cell_type": "code",
   "execution_count": 9,
   "metadata": {},
   "outputs": [
    {
     "data": {
      "text/plain": [
       "(2597, 12)"
      ]
     },
     "execution_count": 9,
     "metadata": {},
     "output_type": "execute_result"
    }
   ],
   "source": [
    "user_df.shape"
   ]
  },
  {
   "cell_type": "markdown",
   "metadata": {},
   "source": [
    "# 餘弦相似度"
   ]
  },
  {
   "cell_type": "code",
   "execution_count": 10,
   "metadata": {
    "collapsed": true
   },
   "outputs": [],
   "source": [
    "import jieba\n",
    "import jieba.analyse as analyse\n",
    "import math\n",
    "from string import digits"
   ]
  },
  {
   "cell_type": "code",
   "execution_count": 11,
   "metadata": {},
   "outputs": [
    {
     "name": "stderr",
     "output_type": "stream",
     "text": [
      "Building prefix dict from the default dictionary ...\n",
      "Loading model from cache C:\\Users\\User\\AppData\\Local\\Temp\\jieba.cache\n",
      "Loading model cost 1.602 seconds.\n",
      "Prefix dict has been built succesfully.\n"
     ]
    }
   ],
   "source": [
    "jieba.load_userdict(\"define_word.txt\")\n",
    "analyse.set_stop_words(\"stop_word.txt\")"
   ]
  },
  {
   "cell_type": "markdown",
   "metadata": {},
   "source": [
    "##### 讀入出題單位回饋的訓練資料"
   ]
  },
  {
   "cell_type": "code",
   "execution_count": 12,
   "metadata": {
    "collapsed": true
   },
   "outputs": [],
   "source": [
    "qa_df = pd.read_excel('附件三、資料格式_問題類別歸類_微調.xlsx',sheet_name='【問題類別歸類】填寫_微調')[['問題類別','客戶詢問的問題']]\n",
    "qa_group_df = pd.DataFrame(qa_df.groupby('問題類別')['客戶詢問的問題'].apply(lambda x: '。'.join(x))).reset_index()"
   ]
  },
  {
   "cell_type": "markdown",
   "metadata": {},
   "source": [
    "##### 找出停用詞"
   ]
  },
  {
   "cell_type": "code",
   "execution_count": 13,
   "metadata": {
    "collapsed": true
   },
   "outputs": [],
   "source": [
    "def stopwordslist(filepath):\n",
    "    stopwords = [line.strip() for line in open(filepath, 'r', encoding='utf-8').readlines()]\n",
    "    return stopwords"
   ]
  },
  {
   "cell_type": "code",
   "execution_count": 14,
   "metadata": {
    "collapsed": true
   },
   "outputs": [],
   "source": [
    "# 去除停用詞\n",
    "stopwords = stopwordslist(\"stop_word.txt\")\n",
    "def del_stopword(word_list):\n",
    "    new_word_list = [i for i in word_list if i not in stopwords+['\\n','\\t','\\r'] ]\n",
    "    return new_word_list"
   ]
  },
  {
   "cell_type": "markdown",
   "metadata": {},
   "source": [
    "#### 問題類別定義"
   ]
  },
  {
   "cell_type": "code",
   "execution_count": 15,
   "metadata": {
    "collapsed": true
   },
   "outputs": [],
   "source": [
    "qa_define = qa_group_df.問題類別.tolist()"
   ]
  },
  {
   "cell_type": "markdown",
   "metadata": {},
   "source": [
    "#### 餘弦相似度方法一"
   ]
  },
  {
   "cell_type": "code",
   "execution_count": 16,
   "metadata": {},
   "outputs": [
    {
     "name": "stdout",
     "output_type": "stream",
     "text": [
      "執行時間：10.635886 分鐘\n"
     ]
    }
   ],
   "source": [
    "start = time.time()\n",
    "\n",
    "index_num = 0\n",
    "all_similarity = {}\n",
    "table = str.maketrans('', '', digits)\n",
    "for s1 in user_df['內容']:\n",
    "    s1 = s1.translate(table) # 去除數字\n",
    "    s1_cut = [i for i in jieba.cut(s1, cut_all=False) if i != '']\n",
    "    s1_cut = del_stopword(s1_cut)\n",
    "    \n",
    "    similarity_score = []\n",
    "    for s2 in qa_group_df['客戶詢問的問題']:\n",
    "        s2_cut = [i for i in jieba.cut(s2, cut_all=False) if i != '']\n",
    "        s2_cut = del_stopword(s2_cut)\n",
    "        word_set = set(s1_cut).union(set(s2_cut))\n",
    "        word_dict = dict()\n",
    "        i = 0\n",
    "        for word in word_set:\n",
    "            word_dict[word] = i\n",
    "            i += 1\n",
    "        # print(word_dict)\n",
    "        \n",
    "        s1_cut_code = [word_dict[word] for word in s1_cut]\n",
    "        # print(s1_cut_code)\n",
    "        s1_cut_code = [0]*len(word_dict)\n",
    "        \n",
    "        for word in s1_cut:\n",
    "            s1_cut_code[word_dict[word]]+=1\n",
    "        # print(s1_cut_code)\n",
    "        \n",
    "        s2_cut_code = [word_dict[word] for word in s2_cut]\n",
    "        # print(s2_cut_code)\n",
    "        s2_cut_code = [0]*len(word_dict)\n",
    "        for word in s2_cut:\n",
    "            s2_cut_code[word_dict[word]]+=1\n",
    "        # print(s2_cut_code)\n",
    "        \n",
    "        # 計算餘弦相似度\n",
    "        sum = 0\n",
    "        sq1 = 0\n",
    "        sq2 = 0\n",
    "        for i in range(len(s1_cut_code)):\n",
    "            sum += s1_cut_code[i] * s2_cut_code[i]\n",
    "            sq1 += pow(s1_cut_code[i], 2)\n",
    "            sq2 += pow(s2_cut_code[i], 2)\n",
    "\n",
    "        try:\n",
    "            result = round(float(sum) / (math.sqrt(sq1) * math.sqrt(sq2)), 2)\n",
    "        except ZeroDivisionError:\n",
    "            result = 0.0\n",
    "        #print(s1,s1_cut,s2,s2_cut,result)\n",
    "        \n",
    "        similarity_score.append(result)\n",
    "    \n",
    "    # 找出相似度最高的問題類別\n",
    "    if max(similarity_score) >= 0.25:\n",
    "        similarity_score.append(qa_define[similarity_score.index(max(similarity_score))])\n",
    "    else:\n",
    "        similarity_score.append('')\n",
    "    \n",
    "    similarity_score.append(s1_cut)\n",
    "    \n",
    "    all_similarity[index_num] = similarity_score\n",
    "    index_num += 1\n",
    "\n",
    "end = time.time()\n",
    "\n",
    "# 輸出結果\n",
    "print(\"執行時間：%f 分鐘\" % ((end - start)/60))"
   ]
  },
  {
   "cell_type": "code",
   "execution_count": 17,
   "metadata": {
    "collapsed": true
   },
   "outputs": [],
   "source": [
    "similarity_df1 = pd.DataFrame(all_similarity).T\n",
    "similarity_df1.columns = qa_define + ['高相似度類別1','斷詞']"
   ]
  },
  {
   "cell_type": "code",
   "execution_count": 18,
   "metadata": {
    "collapsed": true
   },
   "outputs": [],
   "source": [
    "final_similarity_df1 = pd.concat([user_df[['ttl_index','內容']], similarity_df1], axis=1)"
   ]
  },
  {
   "cell_type": "markdown",
   "metadata": {},
   "source": [
    "#### 餘弦相似度方法二"
   ]
  },
  {
   "cell_type": "code",
   "execution_count": 20,
   "metadata": {},
   "outputs": [
    {
     "name": "stdout",
     "output_type": "stream",
     "text": [
      "執行時間：11.302851 分鐘\n"
     ]
    }
   ],
   "source": [
    "start = time.time()\n",
    "\n",
    "index_num = 0\n",
    "all_similarity = {}\n",
    "table = str.maketrans('', '', digits)\n",
    "for s1 in user_df['內容']:\n",
    "    s1 = s1.translate(table) # 去除數字\n",
    "    s1_cut = [i for i in jieba.cut(s1, cut_all=False) if i != '']\n",
    "    s1_cut = del_stopword(s1_cut)\n",
    "    \n",
    "    similarity_score = []\n",
    "    for qa_tag in qa_define:\n",
    "        similarity_part = []\n",
    "        for s2 in qa_df[qa_df.問題類別 == qa_tag].客戶詢問的問題.tolist():\n",
    "            s2_cut = [i for i in jieba.cut(s2, cut_all=False) if i != '']\n",
    "            s2_cut = del_stopword(s2_cut)\n",
    "            word_set = set(s1_cut).union(set(s2_cut))\n",
    "            word_dict = dict()\n",
    "            i = 0\n",
    "            for word in word_set:\n",
    "                word_dict[word] = i\n",
    "                i += 1\n",
    "            # print(word_dict)\n",
    "\n",
    "            s1_cut_code = [word_dict[word] for word in s1_cut]\n",
    "            # print(s1_cut_code)\n",
    "            s1_cut_code = [0]*len(word_dict)\n",
    "\n",
    "            for word in s1_cut:\n",
    "                s1_cut_code[word_dict[word]]+=1\n",
    "            # print(s1_cut_code)\n",
    "\n",
    "            s2_cut_code = [word_dict[word] for word in s2_cut]\n",
    "            # print(s2_cut_code)\n",
    "            s2_cut_code = [0]*len(word_dict)\n",
    "            for word in s2_cut:\n",
    "                s2_cut_code[word_dict[word]]+=1\n",
    "            # print(s2_cut_code)\n",
    "\n",
    "            # 計算餘弦相似度\n",
    "            sum = 0\n",
    "            sq1 = 0\n",
    "            sq2 = 0\n",
    "            for i in range(len(s1_cut_code)):\n",
    "                sum += s1_cut_code[i] * s2_cut_code[i]\n",
    "                sq1 += pow(s1_cut_code[i], 2)\n",
    "                sq2 += pow(s2_cut_code[i], 2)\n",
    "\n",
    "            try:\n",
    "                result = round(float(sum) / (math.sqrt(sq1) * math.sqrt(sq2)), 2)\n",
    "            except ZeroDivisionError:\n",
    "                result = 0.0\n",
    "            #print(s1,s1_cut,s2,s2_cut,result)\n",
    "\n",
    "            similarity_part.append(result)\n",
    "        \n",
    "        # 找出QA中，相似度最高的數值，為該QA最終相似度\n",
    "        similarity_score.append(max(similarity_part))\n",
    "        \n",
    "    # 找出相似度最高的問題類別\n",
    "    if max(similarity_score) >= 0.45:\n",
    "        similarity_score.append(qa_define[similarity_score.index(max(similarity_score))])\n",
    "    else:\n",
    "        similarity_score.append('')\n",
    "\n",
    "    similarity_score.append(s1_cut)\n",
    "\n",
    "    all_similarity[index_num] = similarity_score\n",
    "    index_num += 1\n",
    "    \n",
    "end = time.time()\n",
    "\n",
    "# 輸出結果\n",
    "print(\"執行時間：%f 分鐘\" % ((end - start)/60))"
   ]
  },
  {
   "cell_type": "code",
   "execution_count": 21,
   "metadata": {
    "collapsed": true
   },
   "outputs": [],
   "source": [
    "similarity_df2 = pd.DataFrame(all_similarity).T\n",
    "similarity_df2.columns = qa_define + ['高相似度類別2','斷詞']"
   ]
  },
  {
   "cell_type": "code",
   "execution_count": 22,
   "metadata": {
    "collapsed": true
   },
   "outputs": [],
   "source": [
    "final_similarity_df2 = pd.concat([user_df[['ttl_index','內容']], similarity_df2], axis=1)"
   ]
  },
  {
   "cell_type": "markdown",
   "metadata": {},
   "source": [
    "# 匯出資料"
   ]
  },
  {
   "cell_type": "code",
   "execution_count": 24,
   "metadata": {
    "collapsed": true
   },
   "outputs": [],
   "source": [
    "similarity_concat = pd.concat([final_similarity_df1.iloc[:,:-1], final_similarity_df2.iloc[:,-2:]], axis=1)\n",
    "similarity_concat['tag'] = np.where(((similarity_concat['高相似度類別1'] == '') & (similarity_concat['高相似度類別2'] == '')), '皆判斷不到'\n",
    "         ,np.where(((similarity_concat['高相似度類別1'] != '') & (similarity_concat['高相似度類別2'] == '')), '相似度1'\n",
    "         ,np.where(((similarity_concat['高相似度類別2'] != '') & (similarity_concat['高相似度類別1'] == '')), '相似度2'\n",
    "         ,np.where(((similarity_concat['高相似度類別2'] == similarity_concat['高相似度類別1'])), '相同'\n",
    "         , '需確認'))))"
   ]
  },
  {
   "cell_type": "code",
   "execution_count": 25,
   "metadata": {
    "collapsed": true
   },
   "outputs": [],
   "source": [
    "with pd.ExcelWriter('final_similarity_output.xlsx') as writer:  \n",
    "    final_similarity_df1.to_excel(writer,index=False , sheet_name='similarity1')\n",
    "    final_similarity_df2.to_excel(writer,index=False , sheet_name='similarity2')\n",
    "    similarity_concat.to_excel(writer,index=False , sheet_name='similarity_merge')"
   ]
  },
  {
   "cell_type": "code",
   "execution_count": null,
   "metadata": {
    "collapsed": true
   },
   "outputs": [],
   "source": []
  },
  {
   "cell_type": "code",
   "execution_count": null,
   "metadata": {
    "collapsed": true
   },
   "outputs": [],
   "source": []
  }
 ],
 "metadata": {
  "kernelspec": {
   "display_name": "Python 3 (ipykernel)",
   "language": "python",
   "name": "python3"
  },
  "language_info": {
   "codemirror_mode": {
    "name": "ipython",
    "version": 3
   },
   "file_extension": ".py",
   "mimetype": "text/x-python",
   "name": "python",
   "nbconvert_exporter": "python",
   "pygments_lexer": "ipython3",
   "version": "3.11.4"
  }
 },
 "nbformat": 4,
 "nbformat_minor": 2
}
